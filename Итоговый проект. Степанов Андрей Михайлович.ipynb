{
  "cells": [
    {
      "cell_type": "code",
      "execution_count": null,
      "metadata": {},
      "outputs": [],
      "source": [
        "# ИМПОРТ НЕОБХОДИМЫХ БИБЛИОТЕК\n",
        "\n",
        "import pandas as pd\n",
        "import numpy as np\n",
        "import seaborn as sns\n",
        "import matplotlib.pyplot as plt\n",
        "from scipy import stats as st"
      ]
    },
    {
      "cell_type": "code",
      "execution_count": null,
      "metadata": {
        "id": "xtQTuya7ri-s"
      },
      "outputs": [],
      "source": [
        "# ЧТЕНИЕ ФАЙЛА, ФОРМИРОВАНИЕ ДАТАСЕТА, ПЕРВИЧНАЯ ОЦЕНКА\n",
        "\n",
        "credits = pd.read_csv('credit.csv', delimiter=';')\n",
        "credits.head(100)"
      ]
    },
    {
      "cell_type": "code",
      "execution_count": null,
      "metadata": {},
      "outputs": [],
      "source": [
        "#  КОЛИЧЕСТВО ЗАПИСЕЙ (17046. см. также credits.shape[0]), ТИПЫ ДАННЫХ, ЧИСЛО ЗАПОЛНЕННЫХ ЗАПИСЕЙ\n",
        "\n",
        "credits.info()"
      ]
    },
    {
      "cell_type": "code",
      "execution_count": null,
      "metadata": {},
      "outputs": [],
      "source": [
        "# ПРИВЕДЕНИЕ ТИПОВ ДАННЫХ: object -> float\n",
        "\n",
        "credits['score_shk'] = credits['score_shk'].replace(',', '.',regex=True)\n",
        "credits['score_shk'] = credits['score_shk'].astype('float64')"
      ]
    },
    {
      "cell_type": "code",
      "execution_count": null,
      "metadata": {},
      "outputs": [],
      "source": [
        "credits['credit_sum'] = credits['credit_sum'].replace(',', '.',regex=True)\n",
        "credits['credit_sum'] = credits['credit_sum'].astype('float64')"
      ]
    },
    {
      "cell_type": "code",
      "execution_count": null,
      "metadata": {},
      "outputs": [],
      "source": [
        "# убеждаемся в том, что все типы приведены к numeric, что позволит вычислить статистики\n",
        "credits.info()"
      ]
    },
    {
      "cell_type": "code",
      "execution_count": null,
      "metadata": {},
      "outputs": [],
      "source": [
        "# ОСНОВНЫЕ СТАТИСТИКИ\n",
        "\n",
        "credits.describe()\n",
        "\n",
        "# после приведения типов располагаем статистиками всех признаков"
      ]
    },
    {
      "cell_type": "code",
      "execution_count": null,
      "metadata": {},
      "outputs": [],
      "source": [
        "# ПРОВЕРКА КЛИЕНТОВ НА УНИКАЛЬНОСТЬ\n",
        "\n",
        "if credits['client_id'].nunique() == credits.shape[0]:\n",
        "    print('все клиенты уникальные')\n",
        "else:\n",
        "    print('число повторяющихся клиентов: ', credits.shape[0]-credits['client_id'].nunique())\n"
      ]
    },
    {
      "cell_type": "code",
      "execution_count": null,
      "metadata": {},
      "outputs": [],
      "source": [
        "# ПРОВЕРКА НАБОРОВ ДАННЫХ НА УНИКАЛЬНОСТЬ\n",
        "\n",
        "if credits.duplicated().sum() == 0:\n",
        "    print('все записи уникальные по набору данных')\n",
        "else:\n",
        "    print(f'имеется {credits.duplicated().sum()} повторяющихся записей')\n"
      ]
    },
    {
      "cell_type": "code",
      "execution_count": null,
      "metadata": {},
      "outputs": [],
      "source": [
        "# ПРОПУСКИ В ДАННЫХ\n",
        "\n",
        "credits.isnull().sum()"
      ]
    },
    {
      "cell_type": "markdown",
      "metadata": {},
      "source": [
        "<p>ЗАПОЛНЕНИЕ ПРОПУСКОВ</p>\n",
        "\n",
        "<p>1. Пропуски в численных признаках credit_sum, montly_income, age, score_shk заместим медианными значениями</p>"
      ]
    },
    {
      "cell_type": "code",
      "execution_count": null,
      "metadata": {},
      "outputs": [],
      "source": [
        "replaceables = ['monthly_income','age','credit_sum','score_shk']\n",
        "\n",
        "for col in replaceables:\n",
        "    medianValue = credits[col].median()\n",
        "    credits[col] = credits[col].fillna(medianValue)\n",
        "    print(col, ': ', credits[col].isnull().sum())"
      ]
    },
    {
      "cell_type": "markdown",
      "metadata": {},
      "source": [
        "<p>2. Составляющие существенную долю пропуски credit_count и overdue_credit_count заместим медианными значениями по соответствующему региону</p>"
      ]
    },
    {
      "cell_type": "code",
      "execution_count": null,
      "metadata": {},
      "outputs": [],
      "source": [
        "living_region_values = credits['living_region'].unique()\n",
        "\n",
        "print(\"living_region_values: \", living_region_values)\n",
        "\n",
        "for col in living_region_values:\n",
        "\n",
        "    # 2 варианта - для сверки и учебы\n",
        "    credit_count_median = credits.query('living_region == @col')['credit_count'].median()\n",
        "    overdue_credit_count_median = credits.query('living_region == @col')['overdue_credit_count'].median()\n",
        "\n",
        "    credit_count_median_2 = credits.loc[credits['living_region'] == col,'credit_count'].median()\n",
        "    overdue_credit_count_median_2 = credits.loc[credits['living_region'] == col,'overdue_credit_count'].median()\n",
        "\n",
        "    print('living_region =', col,\n",
        "        ': credit_count_median = ', credit_count_median,'|', credit_count_median_2,\n",
        "        ': overdue_credit_count_median =', overdue_credit_count_median, '|', overdue_credit_count_median_2)\n",
        "\n",
        "\n",
        "    credits.loc[credits['living_region'] == col,'credit_count'] = credits.query('living_region == @col')['credit_count'].fillna(credit_count_median)\n",
        "    credits.loc[credits['living_region'] == col,'overdue_credit_count'] = credits.query('living_region == @col')['overdue_credit_count'].fillna(overdue_credit_count_median)\n",
        "\n",
        "print('credit_count: ', credits['credit_count'].isnull().sum())\n",
        "print('overdue_credit_count: ', credits['overdue_credit_count'].isnull().sum())"
      ]
    },
    {
      "cell_type": "markdown",
      "metadata": {},
      "source": [
        "ВЫВОДЫ:<br>\n",
        "Пропуски по количеству кредитов и просроченных кредитов упали с 9230 до 18 - ненулевое количество объясняется тем, что есть одновременные пропуски и в living_region и в числе (просроченных) кредитов<br>\n",
        "Однако оценить гипотезы по этим признакам для известных регионов теперь возможно"
      ]
    },
    {
      "cell_type": "markdown",
      "metadata": {},
      "source": [
        "<p>3. Поскольку living_region, okrug, education и marital_status - категориальные признаки, а не скаляр, хоть и выражены числовым кодом.<br>\n",
        "какое-либо определенное значение для замены пропуска в этих признаках не является оправданным.</p>\n",
        "<p>Данные в этих записях являются полезными для сбора статистики по другим критериям, поэтому лучше бы оставить как есть<br>\n",
        "однако поскольку хотелось бы избавиться на графиках от незначащих нулей в дробной части, а приведение float to int, оказывается, не работает, если в наборе имеется NaN,\n",
        "то из-за незначительности процента пропуска записей с незаполненными регионами позволим себе 18 записей удалить</p>"
      ]
    },
    {
      "cell_type": "code",
      "execution_count": null,
      "metadata": {},
      "outputs": [],
      "source": [
        "credits = credits.dropna()"
      ]
    },
    {
      "cell_type": "code",
      "execution_count": null,
      "metadata": {},
      "outputs": [],
      "source": [
        "# ПРИВЕДЕНИЕ ТИПОВ ДАННЫХ: float -> int для удобства отображения\n",
        "credits['credit_count'] = credits['credit_count'].astype('int64')\n",
        "credits['overdue_credit_count'] = credits['overdue_credit_count'].astype('int64')\n",
        "credits['education'] = credits['education'].astype('int64')\n",
        "credits['living_region'] = credits['living_region'].astype('int64')\n",
        "credits['marital_status'] = credits['marital_status'].astype('int64')\n",
        "credits['okrug'] = credits['okrug'].astype('int64')\n",
        "credits['age'] = credits['age'].astype('int64')"
      ]
    },
    {
      "cell_type": "markdown",
      "metadata": {},
      "source": [
        "\n",
        "<p></p><br>\n",
        "Сбор некоторой информации методами математической статистики"
      ]
    },
    {
      "cell_type": "code",
      "execution_count": null,
      "metadata": {},
      "outputs": [],
      "source": [
        "# РАСПРЕДЕЛЕНИЕ ЗАЕМЩИКОВ ПО РЕГИОНАМ\n",
        "\n",
        "credits['living_region'].value_counts()"
      ]
    },
    {
      "cell_type": "code",
      "execution_count": null,
      "metadata": {},
      "outputs": [],
      "source": [
        "# В абсолютных значениях \n",
        "plt.subplot(1,1,1)\n",
        "sns.countplot(data = credits, x = 'living_region', color = '#B234E1')"
      ]
    },
    {
      "cell_type": "code",
      "execution_count": null,
      "metadata": {},
      "outputs": [],
      "source": [
        "# РАСПРЕДЕЛЕНИЕ ЗАЕМЩИКОВ ПО ЧИСЛУ ВЗЯТЫХ КРЕДИТОВ\n",
        "\n",
        "credits['credit_count'].value_counts()\n"
      ]
    },
    {
      "cell_type": "code",
      "execution_count": null,
      "metadata": {},
      "outputs": [],
      "source": [
        "plt.subplot(1,1,1)\n",
        "sns.countplot(data = credits, x = 'credit_count')"
      ]
    },
    {
      "cell_type": "markdown",
      "metadata": {},
      "source": [
        "Выводы:\n",
        "- рекордсменом по количеству заемщиков является регион 31\n",
        "- доля взявших два кредита примерно равна доле имеющих один кредит, но в целом поведение людей рациональное: количество кредитов обратно пропорционально числу заемщиков"
      ]
    },
    {
      "cell_type": "code",
      "execution_count": null,
      "metadata": {},
      "outputs": [],
      "source": [
        "# ДОЛЯ НЕ ИМЕЮЩИХ КРЕДИТЫ\n",
        "\n",
        "print(round(100*len(credits.query('credit_count == 0'))/credits.shape[0],2),'%')"
      ]
    },
    {
      "cell_type": "code",
      "execution_count": null,
      "metadata": {},
      "outputs": [],
      "source": [
        "# РАСПРЕДЕЛЕНИЕ ЗАЕМЩИКОВ ПО ЧИСЛУ ПРОСРОЧЕННЫХ КРЕДИТОВ\n",
        "# 2-ое условие - для исключения из подсчета лиц, не имеющих кредитов \n",
        "\n",
        "credits[(credits['overdue_credit_count'] > 0) & (credits['credit_count'] > 0)]['overdue_credit_count'].value_counts()"
      ]
    },
    {
      "cell_type": "code",
      "execution_count": null,
      "metadata": {},
      "outputs": [],
      "source": [
        "plt.subplot(1,1,1)\n",
        "sns.countplot(data = credits, x = 'overdue_credit_count', color = 'Green')"
      ]
    },
    {
      "cell_type": "markdown",
      "metadata": {},
      "source": [
        "Вывод:\n",
        "- и здесь поведение заемщиков ожидаемо рациональное - число заемщиков резко падает с ростом числа просроченных кредитов"
      ]
    },
    {
      "cell_type": "code",
      "execution_count": null,
      "metadata": {},
      "outputs": [],
      "source": [
        "# ДОЛЯ ЛИЦ, ИМЕЮЩИХ ПРОСРОЧЕННЫЕ КРЕДИТЫ, ОТ ОБЩЕГО ЧИСЛА ЗАЕМЩИКОВ\n",
        "\n",
        "print(round(100*len(credits.query('overdue_credit_count > 0'))/len(credits.query('credit_count > 0')),2),'%')"
      ]
    },
    {
      "cell_type": "code",
      "execution_count": null,
      "metadata": {},
      "outputs": [],
      "source": [
        "# ОЦЕНКА ЗАКРЕДИТОВАННОСТИ\n",
        "\n",
        "credit_count_gender = credits.groupby('gender')['credit_count'].sum()\n",
        "print(\"Число выданных кредитов в зависимости от пола\\n\", credit_count_gender.sort_values())\n",
        "\n",
        "credit_count_gender.plot.pie()\n",
        "credit_count_gender.plot().legend(title = 'распределение кредитов по полу', bbox_to_anchor=(1, 1))"
      ]
    },
    {
      "cell_type": "code",
      "execution_count": null,
      "metadata": {},
      "outputs": [],
      "source": [
        "credit_count_education = credits.groupby('education')['credit_count'].sum()\n",
        "print(\"Число выданных кредитов в зависимости от образования\\n\", credit_count_education.sort_values())\n",
        "\n",
        "credit_count_education.plot.pie()\n",
        "credit_count_education.plot().legend(title = 'распределение кредитов по уровню образования', bbox_to_anchor=(1, 1))"
      ]
    },
    {
      "cell_type": "code",
      "execution_count": null,
      "metadata": {},
      "outputs": [],
      "source": [
        "credit_count_living_region = credits.groupby('living_region')['credit_count'].sum()\n",
        "print(\"Число выданных кредитов в зависимости от региона\\n\", credit_count_living_region.sort_values())\n",
        "\n",
        "credit_count_living_region.plot.pie()\n",
        "credit_count_living_region.plot().legend(title = 'распределение кредитов по регионам', bbox_to_anchor=(1, 1))"
      ]
    },
    {
      "cell_type": "code",
      "execution_count": null,
      "metadata": {},
      "outputs": [],
      "source": [
        "credit_count_age = credits.groupby('age')['credit_count'].sum()\n",
        "print(\"Число выданных кредитов в зависимости от возраста\\n\", credit_count_age.sort_values())\n",
        "\n",
        "credit_count_age.plot.pie()\n",
        "credit_count_age.plot().legend(title = 'распределение кредитов по возрастам', bbox_to_anchor=(1, 1))"
      ]
    },
    {
      "cell_type": "code",
      "execution_count": null,
      "metadata": {},
      "outputs": [],
      "source": [
        "# представим разбиение по возрастам на линейной шкале\n",
        "\n",
        "sns.barplot(data = credits, x = 'age', y = 'credit_count', estimator='size', color = 'Green', width = .4)"
      ]
    },
    {
      "cell_type": "code",
      "execution_count": null,
      "metadata": {},
      "outputs": [],
      "source": [
        "credit_count_marital_status = credits.groupby('marital_status')['credit_count'].sum()\n",
        "print(\"Число выданных кредитов в зависимости от семейного положения\\n\", credit_count_marital_status.sort_values())\n",
        "\n",
        "credit_count_marital_status.plot.pie()\n",
        "credit_count_age.plot().legend(title = 'распределение кредитов по семейному положению', bbox_to_anchor=(1, 1))\n",
        "\n",
        "credits_by_marital_relative = round(100 * credits.groupby('marital_status').apply (lambda x: x['credit_count'].sum()/credits['credit_count'].sum()), 2)\n",
        "print(f'\\nотносительные доли взятых кредитов по семейному положению (в %):\\n{credits_by_marital_relative}')"
      ]
    },
    {
      "cell_type": "markdown",
      "metadata": {},
      "source": [
        "ВЫВОДЫ: охотнее всего берут кредиты\n",
        "- люди в возрасте от 27 до 42 лет\n",
        "- с уровнем образования 2 и 4\n",
        "- в регионах с кодом 31, 73, 30, 23, 63\n",
        "- больше всего кредитов берут заемщики с семейным статусом 3, меньше всего - со статусом 5 и 1, причем разница составляет почти 2500%\n",
        "- разница в количестве кредитов между мужчинами и женщинами составляет чуть больше 10%"
      ]
    },
    {
      "cell_type": "markdown",
      "metadata": {},
      "source": [
        "ВЫЯВЛЕНИЕ СВЯЗЕЙ МЕЖДУ ПРИЗНАКАМИ"
      ]
    },
    {
      "cell_type": "code",
      "execution_count": null,
      "metadata": {},
      "outputs": [],
      "source": [
        "# ПОСТРОЕНИЕ ПАРНЫХ ГРАФИКОВ\n",
        "\n",
        "columns_pairplot = credits.columns.drop(['client_id','okrug']) # будем считать okrug относительно незначимым для ускорения \n",
        "#columns_pairplot \n",
        "sns.pairplot(credits[columns_pairplot])"
      ]
    },
    {
      "cell_type": "markdown",
      "metadata": {},
      "source": [
        "Ну, что тут сказать...\n",
        "совершенно очевидно, например, что нет никакой связи между возрастом и регионом, возрастом и средней зарплатой (что логично), скоринговой оценкой и возрастом, скоринговой оценкой и регионом, количеством кредитов и регионом (что менее очевидно) и т.д.\n",
        "В любом случае сильных связей не наблюдается.\n",
        "\n",
        "Оценим силу связей в численном виде"
      ]
    },
    {
      "cell_type": "code",
      "execution_count": null,
      "metadata": {},
      "outputs": [],
      "source": [
        "# МАТРИЦА КОРРЕЛЯЦИИ (ОЦЕНКА ВЕЛИЧИНЫ ЛИНЕЙНОЙ СВЯЗИ МЕЖДУ ПАРАМЕТРАМИ)\n",
        "\n",
        "credits_corr = credits.corr().round(2)\n",
        "credits_corr\n"
      ]
    },
    {
      "cell_type": "markdown",
      "metadata": {},
      "source": [
        "ВЫВОДЫ:  самая сильная прямо пропорциональная связь существует\n",
        "- между ежемесячным доходом и суммой взятых кредитов, \n",
        "- между ежемесячным доходом и средней зарплатой по региону\n",
        "- между скоринговой оценкой и тарифом\n",
        "\n",
        "Однако и эти корреляции не ярко выражены"
      ]
    },
    {
      "cell_type": "code",
      "execution_count": null,
      "metadata": {},
      "outputs": [],
      "source": [
        "# СОХРАНИМ ПРИЗНАКИ СО СРАВНИТЕЛЬНО ЗНАЧИМЫМИ УРОВНЯМИ КОРРЕЛЯЦИИ (ВАРИАНТ 1)\n",
        "\n",
        "selected_column = ['tariff_id','credit_sum','monthly_income','avregzarplata','credit_sum','score_shk']\n",
        "credits_corr_strong_1 = credits[selected_column].corr().round(2)\n",
        "credits_corr_strong_1"
      ]
    },
    {
      "cell_type": "code",
      "execution_count": null,
      "metadata": {},
      "outputs": [],
      "source": [
        "# 'ТЕПЛОВАЯ КАРТА'\n",
        "\n",
        "sns.heatmap(credits_corr_strong_1, annot=True, cmap='afmhot')"
      ]
    },
    {
      "cell_type": "code",
      "execution_count": null,
      "metadata": {},
      "outputs": [],
      "source": [
        "# ПОПРОБУЕМ АВТОМАТИЗИРОВАТЬ ВЫБОР ПРИЗНАКОВ СО ЗНАЧИМЫМИ УРОВНЯМИ КОРРЕЛЯЦИИ (ВАРИАНТ 2)\n",
        "\n",
        "# эта замена позволит отсечь диагональные значения на следующем шаге\n",
        "credits_corr_replace = credits_corr.replace(1, np.NaN)\n",
        "\n",
        "# отбор признаков, для которых значение модуля коэф. корреляции > 0.3\n",
        "credits_corr_strong_2 = credits_corr_replace[credits_corr_replace.columns[abs(credits_corr_replace.max()) > 0.3]] \n",
        "credits_corr_strong_2"
      ]
    },
    {
      "cell_type": "code",
      "execution_count": null,
      "metadata": {},
      "outputs": [],
      "source": [
        "sns.heatmap(credits_corr_strong_2, annot=True, cmap='afmhot')"
      ]
    },
    {
      "cell_type": "markdown",
      "metadata": {},
      "source": [
        "Примеры более детальных диаграмм рассеивания"
      ]
    },
    {
      "cell_type": "code",
      "execution_count": null,
      "metadata": {},
      "outputs": [],
      "source": [
        "# НА ПРИМЕРЕ ОТНОШЕНИЯ МЕЖДУ ЕЖЕМЕСЯЧНЫМ ДОХОДОМ И ЧИСЛОМ ВЗЯТЫХ КРЕДИТОВ\n",
        "\n",
        "sns.regplot(data = credits, x ='monthly_income', y='credit_count')\n",
        "credits['credit_count'].corr(credits['monthly_income'])"
      ]
    },
    {
      "cell_type": "code",
      "execution_count": null,
      "metadata": {},
      "outputs": [],
      "source": [
        "# НА ПРИМЕРЕ ОТНОШЕНИЯ МЕЖДУ ЕЖЕМЕСЯЧНЫМ ДОХОДОМ И СУММОЙ ВЗЯТЫХ КРЕДИТОВ\n",
        "\n",
        "sns.regplot(data = credits, x ='monthly_income', y='credit_sum')"
      ]
    },
    {
      "cell_type": "code",
      "execution_count": null,
      "metadata": {},
      "outputs": [],
      "source": [
        "# ОЦЕНИМ ГРАФИЧЕСКИ СЛЕДУЮЩУЮ ГИПОТЕЗУ: ЧЕМ ВЫШЕ МЕСЯЧНЫЙ ЗАРАБОТОК, ТЕМ МЕНЬШЕ КОЛИЧЕСТВО ПРОСРОЧЕННЫХ КРЕДИТОВ\n",
        "\n",
        "sns.regplot(data = credits, x ='monthly_income', y='overdue_credit_count')"
      ]
    },
    {
      "cell_type": "markdown",
      "metadata": {},
      "source": [
        "ВЫВОДЫ: 1) связь между этими признаками слабая. 2) кредиты берут люди с разным уровнем достатка, но охотнее всего люди с невысоким достатком берут кредиты на небольшие суммы  3) график демонстрирует, что наибольшее количество просроченных кредитов сосредоточено в области низких заработков"
      ]
    },
    {
      "cell_type": "code",
      "execution_count": null,
      "metadata": {},
      "outputs": [],
      "source": [
        "# ПОДТВЕРДИМ ПРЕДЫДУЩИЙ ВЫВОД, ВЫЧИСЛИВ КОЭФФИЦИЕНТ КОРРЕЛЯЦИИ\n",
        "\n",
        "print(credits['credit_sum'].corr(credits['monthly_income']))\n",
        "print(credits['monthly_income'].corr(credits['credit_sum']))"
      ]
    },
    {
      "cell_type": "markdown",
      "metadata": {},
      "source": [
        "Примеры оценки нормального распределения"
      ]
    },
    {
      "cell_type": "code",
      "execution_count": null,
      "metadata": {},
      "outputs": [],
      "source": [
        "# оценка нормального распределения (гистограмма) для суммы накопленных кредитов\n",
        "\n",
        "sns.distplot(credits['credit_sum'])\n",
        "\n",
        "# НЕ ИМЕЕТ НИЧЕГО ОБЩЕГО С НОРМАЛЬНЫМ РАСПРЕДЕЛЕНИЕМ,\n",
        "# НИЖЕ СРАВНИМ С ДОВЕРИТЕЛЬНЫМ ИНТЕРВАЛОМ ДЛЯ СРЕДНЕГО"
      ]
    },
    {
      "cell_type": "code",
      "execution_count": null,
      "metadata": {},
      "outputs": [],
      "source": [
        "# оценка нормального распределения (гистограмма) для скоринговой оценки\n",
        "\n",
        "sns.distplot(credits['score_shk'])\n",
        "\n",
        "# БЛИЗКО К НОРМАЛЬНОМУ РАСПРЕДЕЛЕНИЮ"
      ]
    },
    {
      "cell_type": "code",
      "execution_count": null,
      "metadata": {},
      "outputs": [],
      "source": [
        "credits['overdue_credit_count'].corr(credits['monthly_income'])"
      ]
    },
    {
      "cell_type": "code",
      "execution_count": null,
      "metadata": {},
      "outputs": [],
      "source": [
        "# ОЦЕНИМ ДОВЕРИТЕЛЬНЫЙ ИНТЕРВАЛ, НАПРИМЕР, ДЛЯ СРЕДНЕГО ЗНАЧЕНИЯ СУММЫ КРЕДИТА\n",
        "\n",
        "credit_sum_mean = credits['credit_sum'].mean()\n",
        "credit_sum_std = credits['credit_sum'].std()\n",
        "print('среднее значение суммы кредита: ', credit_sum_mean)\n",
        "print('стандартное отклонение для суммы кредита: ', credit_sum_std)\n",
        "print(f'доверительный интервал для нормального распределения (среднее генеральной совокупности известно) с вероятностью 0.95: ',\n",
        "        st.norm.interval(confidence = 0.95, loc=credit_sum_mean, scale = credit_sum_std))\n",
        "print(f'доверительный интервал для t-распределения (среднее генеральной совокупности неизвестно) с вероятностью 0.95: ',\n",
        "        st.t.interval(confidence = 0.95, df=credits.shape[0]-1, loc=credit_sum_mean, scale = credit_sum_std))\n",
        "print(f'доверительный интервал для нормального распределения (среднее генеральной совокупности известно) с вероятностью 0.99: ',\n",
        "        st.norm.interval(confidence = 0.99, loc=credit_sum_mean, scale = credit_sum_std))\n",
        "print(f'доверительный интервал для t-распределения (среднее генеральной совокупности неизвестно) с вероятностью 0.99: ',\n",
        "        st.t.interval(confidence = 0.99, df=credits.shape[0]-1, loc=credit_sum_mean, scale = credit_sum_std))        "
      ]
    },
    {
      "cell_type": "markdown",
      "metadata": {},
      "source": [
        "Выводы: \n",
        "- чем выше вероятность, тем шире границы интервала\n",
        "- отрицательную нижнюю границу в нашем случае, возможно, следует обнулить. но это не точно"
      ]
    },
    {
      "cell_type": "markdown",
      "metadata": {},
      "source": [
        "<br>ОДНОФАКТОРНЫЙ ДИСПЕРСИОННЫЙ АНАЛИЗ (СРАВНЕНИЕ 2-Х ВЫБОРОК)\n",
        "\n",
        "Проверка гипотезы №1<br>\n",
        "чем выше средняя зарплата в регионе, тем меньше просроченных кредитов<br><br>\n",
        "\n",
        "выборка 1: два региона с одинаковой средней зарплатой  - living_region = 17 & living_region = 57; avregzarplata = 27060;<br>\n",
        "выборка 2: living_region = 30; avregzarplata = 66880<br>\n",
        "\n",
        "размеры выборок близки\n",
        "\n",
        "оценку произведем в соответствии с двухвыборочным t-критерием (поскольку о генеральных совокупностях данных нет), формирующем оценку гипотезы о равенстве средних значений - в нашем случае о равенстве средних значений выборок по просроченным кредитам \n",
        "\n",
        "- нулевая гипотеза: нет статистически значимых различий между средними для двух выборок\n",
        "- первая гипотеза: существуют статистически значимые различия между средними для двух выборок"
      ]
    },
    {
      "cell_type": "code",
      "execution_count": null,
      "metadata": {},
      "outputs": [],
      "source": [
        "region30 = credits[credits['living_region'] == 30]\n",
        "region30 = region30.reset_index(drop=True)\n",
        "\n",
        "print(f\"записей по региону 30: {len(region30)}, средняя зарплата: {region30['avregzarplata'][0]}\")\n"
      ]
    },
    {
      "cell_type": "code",
      "execution_count": null,
      "metadata": {},
      "outputs": [],
      "source": [
        "# можно так\n",
        "# reg17_57 = credits[(credits['living_region'] == 57) | (credits['living_region'] == 17)]\n",
        "\n",
        "# но элегантнее\n",
        "region17_57 = credits.query('living_region in [17,57]')\n",
        "region17_57 = region17_57.reset_index(drop=True)\n",
        "\n",
        "\n",
        "region17_57['avregzarplata'].value_counts()\n",
        "\n",
        "print(f\"всего записей по регионам 17 и 57: {len(region17_57)}, средняя зарплата: {region17_57['avregzarplata'][0]}\")\n"
      ]
    },
    {
      "cell_type": "code",
      "execution_count": null,
      "metadata": {},
      "outputs": [],
      "source": [
        "# УСЛОВИЕМ ПРАКТИЧЕСКОЙ ПРИМЕНИМОСТИ t-критерия ДЛЯ 2-Х НЕЗАВИСИМЫХ ВЫБОРОК ЯВЛЯЕТСЯ НОРМАЛЬНОСТЬ РАСПРЕДЕЛЕНИЯ ВЫБОРОК + РАВЕНСТВО ДИСПЕРСИЙ -> ОЦЕНИМ\n",
        "\n",
        "print(\"std: \", region17_57['overdue_credit_count'].std())\n",
        "sns.distplot(region17_57['overdue_credit_count'])"
      ]
    },
    {
      "cell_type": "code",
      "execution_count": null,
      "metadata": {},
      "outputs": [],
      "source": [
        "print(\"std: \", region30['overdue_credit_count'].std())\n",
        "sns.distplot(region30['overdue_credit_count'])"
      ]
    },
    {
      "cell_type": "code",
      "execution_count": null,
      "metadata": {},
      "outputs": [],
      "source": [
        "# НИ НАМЕКА НА НОРМАЛЬНОСТЬ, НО ПОКАЖЕМ, КАК МОЖНО СДЕЛАТЬ ПОДОБНЫЙ ТЕСТ"
      ]
    },
    {
      "cell_type": "code",
      "execution_count": null,
      "metadata": {},
      "outputs": [],
      "source": [
        "# здесь p-value - уровень значимости или вероятность, с которой мы можем утверждать, \n",
        "# что СРЕДНИЕ ЗНАЧЕНИЯ ЧИСЛА ПРОСРОЧЕННЫХ КРЕДИТОВ В 2-х ГЕНЕРАЛЬНЫХ СОВОКУПНОСТЯХ РАВНЫ\n",
        "\n",
        "\n",
        "statistic, p_value = st.ttest_ind(region17_57['overdue_credit_count'], region30['overdue_credit_count'])\n",
        "print(statistic, p_value)"
      ]
    },
    {
      "cell_type": "code",
      "execution_count": null,
      "metadata": {},
      "outputs": [],
      "source": [
        "# В ДАННОМ СЛУЧАЕ НУЛЕВАЯ ГИПОТЕЗА СОСТОИТ В ТОМ, ЧТО СРЕДНИЕ ЗНАЧЕНИЯ ДВУХ ГЕНЕРАЛЬНЫХ СОВОКУПНОСТЕЙ РАВНЫ\n",
        "\n",
        "if p_value>0.05:\n",
        "    print('принимаем нулевую гипотезу с вероятностью', p_value)\n",
        "else:\n",
        "    print('отклоняем нулевую гипотезу, т.к. вероятность - ', p_value)"
      ]
    },
    {
      "cell_type": "markdown",
      "metadata": {},
      "source": [
        "ВЫВОД: \n",
        "<p>существуют статистически значимые различия между выборками по количеству просроченных кредитов - средние по выборкам в сравниваемых регионах не равны<br>\n",
        "а вот в регионах с высокой или низкой зарплатой количество просрочек - а Бог его знает. Посчитаем единственным реально доступным методом</p>"
      ]
    },
    {
      "cell_type": "code",
      "execution_count": null,
      "metadata": {},
      "outputs": [],
      "source": [
        "print(region17_57['overdue_credit_count'].mean(), \n",
        "region30['overdue_credit_count'].mean())"
      ]
    },
    {
      "cell_type": "markdown",
      "metadata": {},
      "source": [
        "Проверка гипотезы №2<br>\n",
        "чем выше внутренняя скоринговая оценка, тем больше просроченных кредитов (на 1-ый взгляд между ними прямая зависимость)\n",
        "<p>Сформируем две выборки по 200 строк с наивысшей и низшей скоринговой оценкой (за исключением 0, который соответствует клиентам без кредитов)</p>"
      ]
    },
    {
      "cell_type": "code",
      "execution_count": null,
      "metadata": {},
      "outputs": [],
      "source": [
        "score_highest = credits.sort_values(by='score_shk', ascending = False)[:200]"
      ]
    },
    {
      "cell_type": "code",
      "execution_count": null,
      "metadata": {},
      "outputs": [],
      "source": [
        "score_lowest = credits.query('score_shk != 0').sort_values(by='score_shk')[:200]"
      ]
    },
    {
      "cell_type": "code",
      "execution_count": null,
      "metadata": {},
      "outputs": [],
      "source": [
        "statistic, p_value = st.ttest_ind(score_lowest['overdue_credit_count'], score_highest['overdue_credit_count'], nan_policy='omit')\n",
        "print(statistic, p_value)\n",
        "if p_value>0.05:\n",
        "    print('принимаем нулевую гипотезу с вероятностью', p_value)\n",
        "else:\n",
        "    print('отклоняем нулевую гипотезу, т.к. вероятность - ', p_value)"
      ]
    },
    {
      "cell_type": "markdown",
      "metadata": {},
      "source": [
        "Итак, существуют статистически значимые различия по просроченным кредитам между выборками для клиентов с высокой и низкой скоринговой оценкой</br>\n",
        "в какой из них больше просроченных кредитов - да кто же знает... посчитаем доступным способом"
      ]
    },
    {
      "cell_type": "code",
      "execution_count": null,
      "metadata": {},
      "outputs": [],
      "source": [
        "print(score_lowest['overdue_credit_count'].mean(), \n",
        "score_highest['overdue_credit_count'].mean())"
      ]
    },
    {
      "cell_type": "markdown",
      "metadata": {},
      "source": [
        "В соответствии с поставленной аналитической задачей описания портрета клиента, который станет (и не станет) открывать кредитный счет можно сделать следующие частичные выводы:\n",
        "<ul>кредиты берут люди с разным уровнем достатка, но охотнее всего люди с невысоким достатком берут кредиты на небольшие суммы </ul>\n",
        "<ul>наибольшее количество просроченных кредитов сосредоточено в области низких заработков [хотя, как ни странно, тестовые данные показали, что в регионе с более высокой средней зарплатой просрочка по кредитам немного выше, чем в регионах с низким уровнем зарплат. Возможно, это связано с тем, величина кредитов в более \"богатом\" регионе выше]</ul>\n",
        "<ul>рекордсменом по количеству заемщиков является регион 31</ul>\n",
        "<ul>доля взявших два кредита примерно равна доле имеющих один кредит, в остальном число заемщиков резко падает с ростом числа взятых кредитов</ul>\n",
        "<ul>при прочих равных можно ожидать, что чем выше ежемесячный доход, тем больше сумма взятых кредитов (по коэф-ту корреляции Пирсона)</ul>\n",
        "<ul>наиболее склонны к пользованию кредитами:<br>\n",
        "- люди в возрасте от 27 до 42 лет<br>\n",
        "- с уровнем образования 2 и 4<br>\n",
        "- в регионах с кодом 31, 73, 30, 23, 63<br>\n",
        "- больше всего кредитов берут заемщики с семейным статусом 3, меньше всего - со статусом 5 и 1, причем разница составляет почти 2500%<br>\n",
        "- разница между заемщиками мужчинами и женщинами в количестве кредитов невелика и составляет чуть больше 10%</ul>\n",
        "<ul>вероятность просрочки выше у клиентов с высокой скоринговой оценкой</ul>"
      ]
    }
  ],
  "metadata": {
    "colab": {
      "provenance": []
    },
    "kernelspec": {
      "display_name": "Python 3.8.7rc1 64-bit",
      "language": "python",
      "name": "python3"
    },
    "language_info": {
      "codemirror_mode": {
        "name": "ipython",
        "version": 3
      },
      "file_extension": ".py",
      "mimetype": "text/x-python",
      "name": "python",
      "nbconvert_exporter": "python",
      "pygments_lexer": "ipython3",
      "version": "3.8.7"
    },
    "vscode": {
      "interpreter": {
        "hash": "570feb405e2e27c949193ac68f46852414290d515b0ba6e5d90d076ed2284471"
      }
    }
  },
  "nbformat": 4,
  "nbformat_minor": 0
}
